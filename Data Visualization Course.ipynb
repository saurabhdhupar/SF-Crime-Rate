{
 "cells": [
  {
   "cell_type": "code",
   "execution_count": 233,
   "metadata": {
    "collapsed": false
   },
   "outputs": [],
   "source": [
    "from bokeh.charts import HeatMap\n",
    "from bokeh.plotting import figure, show, output_notebook, output_file, reset_output,show\n",
    "from bokeh.sampledata.autompg import autompg as df\n",
    "from bokeh.sampledata.unemployment1948 import data\n",
    "from bokeh.palettes import YlOrRd9 as palette\n",
    "\n",
    "def extractTime(time_stamp):\n",
    "    time = int(time_stamp.split(':')[0])\n",
    "    m = \"\"\n",
    "    if time >= 12:\n",
    "        m = \"pm\"\n",
    "        time = time / 2\n",
    "    else:\n",
    "        m = \"am\"\n",
    "        \n",
    "    if time % 2 == 0:\n",
    "        return str(time)+m+'-'+str(time+2)+m\n",
    "    else:\n",
    "        return str(time-1)+m+'-'+str(time+1)+m\n",
    "\n",
    "def extractmonth(date):\n",
    "    month = date.split('/')[0]\n",
    "    if month == '06':\n",
    "        return 'June'\n",
    "    elif month == '07':\n",
    "        return 'July'\n",
    "    return 'August'\n",
    "\n",
    "\n",
    "weekday = np.array(['Monday','Tuesday','Wednesday','Thursday','Friday','Saturday','Sunday'])\n",
    "month = np.array(['June','July','August'])\n",
    "time_range = np.array(['0am-2am','2am-4am','4am-6am','6am-8am','8am-10am',\n",
    "                       '10am-12am','12pm-2pm','2pm-4pm','4pm-6pm','6pm-8pm',\n",
    "                      '8pm-10pm','10pm-12pm'])\n",
    "\n",
    "\n",
    "\n",
    "sf_crime = pd.read_csv(\"C:\\Users\\sdhupar\\Desktop\\Coursera\\Data Science\\sanfrancisco_incidents_summer_2014.csv\")\n",
    "sf_crime['Month'] = sf_crime['Date'].apply(extractmonth)\n",
    "sf_crime['Time_range'] = sf_crime['Time'].apply(extractTime)\n",
    "\n",
    "q = sf_crime.groupby('DayOfWeek').Category.value_counts().to_frame()\n",
    "crimes = q.index.get_level_values(1).unique()\n",
    "crimes.sort()\n",
    "\n",
    "q.reset_index(inplace=True)\n",
    "\n",
    "\n",
    "r = sf_crime.groupby('Month').Category.value_counts().to_frame()\n",
    "r.reset_index(inplace=True)\n",
    "s = sf_crime.groupby('Time_range').Category.value_counts().to_frame()\n",
    "s.reset_index(inplace=True)\n",
    "\n",
    "dayDataFrame = pd.DataFrame(index= weekday,columns=crimes)\n",
    "monthDataFrame = pd.DataFrame(index= month, columns=crimes)\n",
    "timeDataFrame = pd.DataFrame(index= time_range, columns=crimes)\n",
    "\n",
    "\n",
    "\n",
    "for day in weekday:\n",
    "    for crimeType in crimes:\n",
    "        series = q[(q['DayOfWeek'] == day) & (q['level_1'] == crimeType)]\n",
    "        if len(series) > 0:\n",
    "            dayDataFrame.ix[day][crimeType] = q[(q['DayOfWeek'] == day) & (q['level_1'] == crimeType)][0].values[0]\n",
    "        else:\n",
    "            dayDataFrame.ix[day][crimeType] = 0\n",
    "\n",
    "for mon in month:\n",
    "    for crimeType in crimes:\n",
    "        series = r[(r['Month'] == mon) & (r['level_1'] == crimeType)]\n",
    "        if len(series) > 0:\n",
    "            monthDataFrame.ix[mon][crimeType] = r[(r['Month'] == mon) & (r['level_1'] == crimeType)][0].values[0]\n",
    "        else:\n",
    "            monthDataFrame.ix[mon][crimeType] = 0\n",
    "\n",
    "for time in time_range:\n",
    "    for crimeType in crimes:\n",
    "        series = s[(s['Time_range'] == time) & (s['level_1'] == crimeType)]\n",
    "        if len(series) > 0:\n",
    "            timeDataFrame.ix[time][crimeType] = s[(s['Time_range'] == time) & (s['level_1'] == crimeType)][0].values[0]\n",
    "        else:\n",
    "            timeDataFrame.ix[time][crimeType] = 0"
   ]
  },
  {
   "cell_type": "code",
   "execution_count": 235,
   "metadata": {
    "collapsed": false
   },
   "outputs": [
    {
     "name": "stdout",
     "output_type": "stream",
     "text": [
      "Session output file 'sf_crime_heatmap_all_1.html' already exists, will be overwritten.\n",
      "Session output file 'sf_crime_heatmap_all_2.html' already exists, will be overwritten.\n",
      "Session output file 'sf_crime_heatmap_all_3.html' already exists, will be overwritten.\n"
     ]
    }
   ],
   "source": [
    "output_file(\"sf_crime_heatmap_all_1.html\")\n",
    "\n",
    "palette = palette[::-1]  # Reverse the color order so dark red is highest unemployment\n",
    "hm = HeatMap(dayDateFrame,title=\"SF Crime Rate by different week days\", width=800, palette=palette,xlabel=\"Crime Type\", ylabel=\"Weekday\") \n",
    "show(hm)\n",
    "hm1 = HeatMap(monthDataFrame, title=\"SF Crime Rate by different months\", width=800, palette=palette,xlabel=\"Crime Type\", ylabel=\"Month\")\n",
    "output_file(\"sf_crime_heatmap_all_2.html\")\n",
    "show(hm1)\n",
    "output_file(\"sf_crime_heatmap_all_3.html\")\n",
    "hm2 = HeatMap(timeDataFrame, title=\"SF Crime by different time ranges\", width=800, palette=palette,xlabel=\"Crime Type\", ylabel=\"Time Range\")\n",
    "show(hm2)"
   ]
  },
  {
   "cell_type": "code",
   "execution_count": null,
   "metadata": {
    "collapsed": true
   },
   "outputs": [],
   "source": []
  }
 ],
 "metadata": {
  "kernelspec": {
   "display_name": "Python 2",
   "language": "python",
   "name": "python2"
  },
  "language_info": {
   "codemirror_mode": {
    "name": "ipython",
    "version": 2
   },
   "file_extension": ".py",
   "mimetype": "text/x-python",
   "name": "python",
   "nbconvert_exporter": "python",
   "pygments_lexer": "ipython2",
   "version": "2.7.9"
  }
 },
 "nbformat": 4,
 "nbformat_minor": 0
}
